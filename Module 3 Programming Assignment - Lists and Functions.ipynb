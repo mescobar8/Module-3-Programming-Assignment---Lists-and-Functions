{
 "cells": [
  {
   "cell_type": "code",
   "execution_count": 1,
   "id": "874bf621-c6dd-42cc-89f9-faef4e5a9e97",
   "metadata": {},
   "outputs": [
    {
     "data": {
      "text/plain": [
       "['mozzarella', 'cinderella', 'salmonella']"
      ]
     },
     "execution_count": 1,
     "metadata": {},
     "output_type": "execute_result"
    }
   ],
   "source": [
    "### 7.4 Create a List\n",
    "#We need to create a list named `things` that contains the following three elements: `\"mozzarella\"`, `\"cinderella\"`, `\"salmonella\"`.\n",
    "things = [\"mozzarella\", \"cinderella\", \"salmonella\"]\n",
    "things"
   ]
  },
  {
   "cell_type": "code",
   "execution_count": 2,
   "id": "68b961a1-4777-4d7e-9afe-089a523f35b3",
   "metadata": {},
   "outputs": [
    {
     "data": {
      "text/plain": [
       "['mozzarella', 'Cinderella', 'salmonella']"
      ]
     },
     "execution_count": 2,
     "metadata": {},
     "output_type": "execute_result"
    }
   ],
   "source": [
    "### 7.5 Capitalize the Element Referring to a Person\n",
    "#We need to capitalize the element in the list that refers to a person, which is `\"cinderella\"`. After that, we will print the list. \n",
    "things[1] = things[1].capitalize()  \n",
    "things"
   ]
  },
  {
   "cell_type": "code",
   "execution_count": 3,
   "id": "cc5a97c5-b32a-4d13-96f7-51948007d77d",
   "metadata": {},
   "outputs": [
    {
     "data": {
      "text/plain": [
       "['MOZZARELLA', 'Cinderella', 'salmonella']"
      ]
     },
     "execution_count": 3,
     "metadata": {},
     "output_type": "execute_result"
    }
   ],
   "source": [
    "### 7.6 Capitalize the Cheesy Element\n",
    "#In this step, we need to make the cheesy element of the list (which is `\"mozzarella\"`) uppercase and print the list.\n",
    "things[0] = things[0].upper()  \n",
    "things"
   ]
  },
  {
   "cell_type": "code",
   "execution_count": 4,
   "id": "2f5a69be-b747-4434-97d1-ecd90b9c355c",
   "metadata": {},
   "outputs": [
    {
     "data": {
      "text/plain": [
       "['MOZZARELLA', 'Cinderella']"
      ]
     },
     "execution_count": 4,
     "metadata": {},
     "output_type": "execute_result"
    }
   ],
   "source": [
    "### 7.7 Delete the Disease Element\n",
    "#The element `\"salmonella\"` refers to a disease. We need to delete this element from the list and print the list.\n",
    "things.remove(\"salmonella\")\n",
    "things"
   ]
  },
  {
   "cell_type": "code",
   "execution_count": 5,
   "id": "f045f6e8-2d3f-4b93-a1fe-e0e9a3f0c2dd",
   "metadata": {},
   "outputs": [
    {
     "data": {
      "text/plain": [
       "['Harry', 'Ron', 'Hermione']"
      ]
     },
     "execution_count": 5,
     "metadata": {},
     "output_type": "execute_result"
    }
   ],
   "source": [
    "### 9.1 Define the `good()` Function\n",
    "#We need to define a function called `good()` that returns the list: `['Harry', 'Ron', 'Hermione']`.\n",
    "def good():\n",
    "    return ['Harry', 'Ron', 'Hermione']\n",
    "good()"
   ]
  },
  {
   "cell_type": "code",
   "execution_count": 6,
   "id": "a512c34e-ff22-476d-a22a-1b3f9e8c9d23",
   "metadata": {},
   "outputs": [
    {
     "data": {
      "text/plain": [
       "5"
      ]
     },
     "execution_count": 6,
     "metadata": {},
     "output_type": "execute_result"
    }
   ],
   "source": [
    "### 9.2 Define the `get_odds()` Generator Function\n",
    "#We need to define a generator function `get_odds()` that returns the odd numbers from `range(10)`. \n",
    "#Then, using a `for` loop, we'll print the third odd number returned by the generator.\n",
    "def get_odds():\n",
    "    for i in range(10):\n",
    "        if i % 2 != 0:\n",
    "            yield i\n",
    "# Use a for loop to find and print the third odd number\n",
    "odds = get_odds()\n",
    "third_odd = None\n",
    "\n",
    "for i, value in enumerate(odds, start=1):\n",
    "    if i == 3:\n",
    "        third_odd = value\n",
    "        break\n",
    "\n",
    "third_odd"
   ]
  },
  {
   "cell_type": "code",
   "execution_count": null,
   "id": "cd4ba2e9-e460-4d63-a684-df32b9db20c9",
   "metadata": {},
   "outputs": [],
   "source": []
  },
  {
   "cell_type": "code",
   "execution_count": null,
   "id": "9854c56c-d020-4a94-bd9f-0a16ef108314",
   "metadata": {},
   "outputs": [],
   "source": []
  }
 ],
 "metadata": {
  "kernelspec": {
   "display_name": "Python 3 (ipykernel)",
   "language": "python",
   "name": "python3"
  },
  "language_info": {
   "codemirror_mode": {
    "name": "ipython",
    "version": 3
   },
   "file_extension": ".py",
   "mimetype": "text/x-python",
   "name": "python",
   "nbconvert_exporter": "python",
   "pygments_lexer": "ipython3",
   "version": "3.12.7"
  }
 },
 "nbformat": 4,
 "nbformat_minor": 5
}
